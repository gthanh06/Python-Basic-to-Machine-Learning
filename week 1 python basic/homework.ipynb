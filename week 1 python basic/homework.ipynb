{
 "cells": [
  {
   "cell_type": "code",
   "execution_count": 1,
   "metadata": {},
   "outputs": [
    {
     "name": "stdout",
     "output_type": "stream",
     "text": [
      "Xin chào, !\n"
     ]
    }
   ],
   "source": [
    "# Nhập và in tên người dùng\n",
    "# Nhập tên từ người dùng\n",
    "ten = input(\"Nhập tên của bạn: \")\n",
    "\n",
    "# In lời chào\n",
    "print(f\"Xin chào, {ten}!\")\n"
   ]
  },
  {
   "cell_type": "code",
   "execution_count": null,
   "metadata": {},
   "outputs": [],
   "source": [
    "# 2. Tính tổng hai số\n",
    "a = float(input(\"Nhập số thứ nhất: \"))\n",
    "b = float(input(\"Nhập số thứ hai: \"))\n",
    "print(f\"Tổng của {a} và {b} là: {a + b}\")\n"
   ]
  },
  {
   "cell_type": "code",
   "execution_count": null,
   "metadata": {},
   "outputs": [],
   "source": [
    "# 3. Tính chu vi Hình Chữ Nhật\n",
    "dai = float(input(\"Nhập chiều dài: \"))\n",
    "rong = float(input(\"Nhập chiều rộng: \"))\n",
    "print(f\"Chu vi Hình Chữ Nhật là: {2 * (dai + rong)}\")\n"
   ]
  },
  {
   "cell_type": "code",
   "execution_count": null,
   "metadata": {},
   "outputs": [],
   "source": [
    "# 4. Tính Diện tích Tam Giác\n",
    "day = float(input(\"Nhập độ dài đáy: \"))\n",
    "cao = float(input(\"Nhập chiều cao: \"))\n",
    "print(f\"Diện tích Tam Giác là: {(day * cao) / 2}\")\n"
   ]
  },
  {
   "cell_type": "code",
   "execution_count": null,
   "metadata": {},
   "outputs": [],
   "source": [
    "# 5. Tính 2 mũ 5\n",
    "print(f\"2 mũ 5 là: {2 ** 5}\")\n"
   ]
  },
  {
   "cell_type": "code",
   "execution_count": null,
   "metadata": {},
   "outputs": [],
   "source": [
    "# 6. Kiểm tra số chẵn lẻ\n",
    "so = int(input(\"Nhập một số nguyên: \"))\n",
    "if so % 2 == 0:\n",
    "    print(f\"{so} là số chẵn.\")\n",
    "else:\n",
    "    print(f\"{so} là số lẻ.\")\n"
   ]
  },
  {
   "cell_type": "code",
   "execution_count": null,
   "metadata": {},
   "outputs": [],
   "source": [
    "# 7. Xếp loại học sinh\n",
    "diem = float(input(\"Nhập điểm của học sinh: \"))\n",
    "if diem >= 8:\n",
    "    print(\"Học sinh xếp loại Giỏi.\")\n",
    "elif diem >= 6.5:\n",
    "    print(\"Học sinh xếp loại Khá.\")\n",
    "elif diem >= 5:\n",
    "    print(\"Học sinh xếp loại Trung Bình.\")\n",
    "else:\n",
    "    print(\"Học sinh xếp loại Yếu.\")\n"
   ]
  },
  {
   "cell_type": "code",
   "execution_count": null,
   "metadata": {},
   "outputs": [],
   "source": [
    "# 8. Giải phương trình bậc 2\n",
    "import math\n",
    "\n",
    "a = float(input(\"Nhập hệ số a: \"))\n",
    "b = float(input(\"Nhập hệ số b: \"))\n",
    "c = float(input(\"Nhập hệ số c: \"))\n",
    "\n",
    "delta = b**2 - 4*a*c\n",
    "if delta < 0:\n",
    "    print(\"Phương trình vô nghiệm.\")\n",
    "elif delta == 0:\n",
    "    print(f\"Phương trình có nghiệm kép: {-b / (2*a)}\")\n",
    "else:\n",
    "    x1 = (-b + math.sqrt(delta)) / (2*a)\n",
    "    x2 = (-b - math.sqrt(delta)) / (2*a)\n",
    "    print(f\"Phương trình có hai nghiệm phân biệt: x1 = {x1}, x2 = {x2}\")\n"
   ]
  },
  {
   "cell_type": "code",
   "execution_count": null,
   "metadata": {},
   "outputs": [],
   "source": [
    "# 9. Đổi độ C sang độ F\n",
    "celsius = float(input(\"Nhập nhiệt độ C: \"))\n",
    "fahrenheit = (celsius * 9/5) + 32\n",
    "print(f\"Nhiệt độ F tương ứng là: {fahrenheit}\")\n"
   ]
  },
  {
   "cell_type": "code",
   "execution_count": null,
   "metadata": {},
   "outputs": [],
   "source": [
    "# 10. Kiểm tra V trong ký tự \"VanLang\"\n",
    "chuoi = \"VanLang\"\n",
    "print(f\"Ký tự 'V' có trong 'VanLang': {'V' in chuoi}\")"
   ]
  }
 ],
 "metadata": {
  "kernelspec": {
   "display_name": "Python 3",
   "language": "python",
   "name": "python3"
  },
  "language_info": {
   "codemirror_mode": {
    "name": "ipython",
    "version": 3
   },
   "file_extension": ".py",
   "mimetype": "text/x-python",
   "name": "python",
   "nbconvert_exporter": "python",
   "pygments_lexer": "ipython3",
   "version": "3.11.9"
  }
 },
 "nbformat": 4,
 "nbformat_minor": 2
}
